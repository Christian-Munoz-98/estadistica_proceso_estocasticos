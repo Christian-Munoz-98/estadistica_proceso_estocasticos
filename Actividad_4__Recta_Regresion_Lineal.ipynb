{
  "nbformat": 4,
  "nbformat_minor": 0,
  "metadata": {
    "colab": {
      "name": "Actividad_4_ Recta_Regresion_Lineal.ipynb",
      "provenance": [],
      "collapsed_sections": [],
      "authorship_tag": "ABX9TyMY+cJefR8C29P+NRXCzO4O",
      "include_colab_link": true
    },
    "kernelspec": {
      "name": "python3",
      "display_name": "Python 3"
    },
    "language_info": {
      "name": "python"
    }
  },
  "cells": [
    {
      "cell_type": "markdown",
      "metadata": {
        "id": "view-in-github",
        "colab_type": "text"
      },
      "source": [
        "<a href=\"https://colab.research.google.com/github/Christian-Munoz-98/formulas_estadisticas/blob/main/Actividad_4__Recta_Regresion_Lineal.ipynb\" target=\"_parent\"><img src=\"https://colab.research.google.com/assets/colab-badge.svg\" alt=\"Open In Colab\"/></a>"
      ]
    },
    {
      "cell_type": "markdown",
      "source": [
        "1. Un ingeniero químico está investigando el efecto de la temperatura de operación de proceso en el rendimiento de un cierto producto. El estudio da como resultado los siguientes datos:\n",
        "<table>\n",
        "<tr>\n",
        "    <th>X</th><th>100</th><th>110</th><th>115</th><th>120</th><th>130</th>\n",
        "    <th>135</th><th>140</th><th>150</th><th>160</th><th>165</th><th>170</th>\n",
        "    <th>180</th><th>190</th><th>195</th>\n",
        "  </tr>\n",
        "  <tr>\n",
        "    <td>Y</td><td>45</td><td>51</td><td>53</td><td>54</td><td>61</td><td>63</td>\n",
        "    <td>66</td><td>70</td><td>74</td><td>76</td><td>78</td><td>85</td>\n",
        "    <td>89</td><td>91</td>\n",
        "  </tr>\n",
        "\n",
        "</table>\n",
        "\n",
        "Determina la **Recta de Regresión** para tales valores y **grafica la recta** en el plano\n",
        "\n",
        "# **Procedimiento**\n",
        "1. Obtener la media de X e Y\n",
        "2. Obtener las desviaciones estandar de X e Y\n",
        "3. Obtener el coeficiente de correlación\n",
        "4. Obtener la recta de regresión y graficarla junto con el diagrama de dispersión"
      ],
      "metadata": {
        "id": "MVgDeRiidjMN"
      }
    },
    {
      "cell_type": "markdown",
      "source": [
        "## Paso 1 Media de X e Y:\n",
        "## $$\\overline{x}= \\frac{\\sum_{i=1}^{n} x_i}{n} $$"
      ],
      "metadata": {
        "id": "JVgS7Sl11gvV"
      }
    },
    {
      "cell_type": "code",
      "execution_count": 170,
      "metadata": {
        "colab": {
          "base_uri": "https://localhost:8080/"
        },
        "id": "6annDIBydZTm",
        "outputId": "c7d93e09-568e-444b-b97d-1bce169696bd"
      },
      "outputs": [
        {
          "output_type": "stream",
          "name": "stdout",
          "text": [
            "Promedio de X = 2060 / 14 = 147.14285714285714\n",
            "Promedio de Y = 956 / 14 = 68.28571428571429\n"
          ]
        }
      ],
      "source": [
        "import numpy as np\n",
        "x = np.array([100,110,115,120,130,135,140,150,160,165,170,180,190,195])\n",
        "y = np.array([45,\t51,\t53,\t54,\t61,\t63,\t66,\t70,\t74,\t76,\t78,\t85,\t89,\t91])\n",
        "print(f\"Promedio de X = {np.sum(x)} / {x.size} = {np.mean(x)}\")\n",
        "print(f\"Promedio de Y = {np.sum(y)} / {y.size} = {np.mean(y)}\")"
      ]
    },
    {
      "cell_type": "markdown",
      "source": [
        "## Paso 2 Obtener la desviación estandar de X e Y\n",
        "## $$ S_x = \\sqrt{\\frac{\\sum_{i=1}^{n} (x_i-\\overline{x})^2}{n-1}} $$\n"
      ],
      "metadata": {
        "id": "pp343ejmpDM_"
      }
    },
    {
      "cell_type": "code",
      "source": [
        "x_mean_array = np.array([147.14285714285714,147.14285714285714,147.14285714285714,147.14285714285714,147.14285714285714,147.14285714285714,147.14285714285714,147.14285714285714,147.14285714285714,147.14285714285714,147.14285714285714,147.14285714285714,147.14285714285714,147.14285714285714])\n",
        "y_mean_array = np.array([68.28571428571429,68.28571428571429,68.28571428571429,68.28571428571429,68.28571428571429,68.28571428571429,68.28571428571429,68.28571428571429,68.28571428571429,68.28571428571429,68.28571428571429,68.28571428571429,68.28571428571429,68.28571428571429])\n",
        "sumx = np.sum((x-x_mean_array)**2)\n",
        "sumy = np.sum((y-y_mean_array)**2)\n",
        "\n",
        "print(f\"Sx = sqrt({sumx}/{x.size-1}) = {np.std(x)}\")\n",
        "print(f\"Sy = sqrt({sumy}/{y.size-1}) = {np.std(y)}\")\n"
      ],
      "metadata": {
        "colab": {
          "base_uri": "https://localhost:8080/"
        },
        "id": "-L5vGWLBqgok",
        "outputId": "58959bbb-4012-4da5-8cb3-7f05a15f471c"
      },
      "execution_count": 171,
      "outputs": [
        {
          "output_type": "stream",
          "name": "stdout",
          "text": [
            "Sx = sqrt(12085.714285714286/13) = 29.381376858861618\n",
            "Sy = sqrt(2778.8571428571427/13) = 14.088640669644724\n"
          ]
        }
      ]
    },
    {
      "cell_type": "markdown",
      "source": [
        "## Paso 3 Obtener covarianza y coeficiente de correlación\n",
        "## $$ S_{xy} = \\frac{\\sum_{i=1}^{n}x_iy_i-\\frac{(\\sum_{i=1}^{n}x_i)(\\sum_{i=1}^{n}y_i)}{n}}{n} $$\n",
        "\n",
        "## $$ r_{xy}= \\frac{S_{xy}}{S_xS_y}$$"
      ],
      "metadata": {
        "id": "oxOpR8hMtIDY"
      }
    },
    {
      "cell_type": "code",
      "source": [
        "sumxy = np.sum(x*y)\n",
        "ex_ey_n = (np.sum(x) * np.sum(y))/x.size\n",
        "sxy = (sumxy - ex_ey_n)/(x.size)\n",
        "rxy = np.corrcoef(x,y)\n",
        "\n",
        "print(f\"Sxy = {sumxy} - {ex_ey_n} / {x.size} = {sxy}\")\n",
        "print(f\"rxy = {sxy} / {np.std(x)*np.std(y)} = {rxy}\")"
      ],
      "metadata": {
        "colab": {
          "base_uri": "https://localhost:8080/"
        },
        "id": "VS6ShezEvcJY",
        "outputId": "d6ccf014-0c22-44f4-b1f8-d9917da6159b"
      },
      "execution_count": 172,
      "outputs": [
        {
          "output_type": "stream",
          "name": "stdout",
          "text": [
            "Sxy = 146455 - 140668.57142857142 / 14 = 413.31632653061286\n",
            "rxy = 413.31632653061286 / 413.94366094391614 = [[1.         0.99848449]\n",
            " [0.99848449 1.        ]]\n"
          ]
        }
      ]
    },
    {
      "cell_type": "markdown",
      "source": [
        "## Paso 4 Obtener la recta de regresión y graficarla junto con el diagrama de dispersión\n",
        "\n",
        "$$m = r(\\frac{s_y}{s_x})$$\n",
        "\n",
        "$$b = \\overline{y} - m\\overline{x}$$"
      ],
      "metadata": {
        "id": "o2BtVDGptC8p"
      }
    },
    {
      "cell_type": "code",
      "source": [
        "m = 0.99848449 * (np.std(y)/np.std(x))\n",
        "b = np.mean(y) - m*np.mean(x)\n",
        "y_1 = m*110+b\n",
        "y_2 = m*190+b\n",
        "\n",
        "\n",
        "print(f\"y = {m}x {b}\")\n",
        "print(f\"y1={y_1}, y2={y_2}\")\n",
        "\n",
        "import matplotlib.pyplot as plt\n",
        "\n",
        "plt.plot(x,y,'o')\n",
        "plt.plot(x,m*x+b)\n",
        "plt.grid(True, linestyle='-', linewidth=0.5)\n",
        "plt.show()\n",
        "plt.savefig('grafica1.png', dpi=300)"
      ],
      "metadata": {
        "colab": {
          "base_uri": "https://localhost:8080/",
          "height": 317
        },
        "id": "f0W45uhuz4UF",
        "outputId": "0b98f8b2-689b-4e9c-ecdb-9d4d11eba97b"
      },
      "execution_count": 173,
      "outputs": [
        {
          "output_type": "stream",
          "name": "stdout",
          "text": [
            "y = 0.4787825043529464x -2.163711354790678\n",
            "y1=50.50236412403343, y2=88.80496447226913\n"
          ]
        },
        {
          "output_type": "display_data",
          "data": {
            "image/png": "[encoded data removed]",
            "text/plain": [
              "<Figure size 432x288 with 1 Axes>"
            ]
          },
          "metadata": {
            "needs_background": "light"
          }
        },
        {
          "output_type": "display_data",
          "data": {
            "text/plain": [
              "<Figure size 432x288 with 0 Axes>"
            ]
          },
          "metadata": {}
        }
      ]
    },
    {
      "cell_type": "markdown",
      "source": [
        "2. El artículo **“Promising Quantitative Nondestructive Evaluation Techniques\n",
        "for Composite materials” (Materials Evaluation, 1985: 561-565)** reporta sobre\n",
        "el studio para investigar cómo la propagación de una onda de esfuerzo\n",
        "ultrasónica a través de una sustancia depende de las propiedades de esta\n",
        "última. Los siguientes datos sobre la resistencia la fractura (x, como porcentaje\n",
        "de resistencia a la tensión más reciente) y la atenuación (y, en neper/cm, la\n",
        "disminución de la amplitud de la onda de esfuerzo) en compuestos de poliéster\n",
        "reforzados con fibra de vidrio se tomaron de una gráfica que aparece en el\n",
        "artículo. El patrón lineal sustancial que se incluye en la gráfica de dispersión\n",
        "sugiere el modelo de regresión lineal simple.\n",
        "<table>\n",
        "<tr>\n",
        "    <th>X</th><th>12</th><th>30</th><th>36</th><th>40</th><th>45</th>\n",
        "    <th>57</th><th>62</th><th>67</th><th>71</th><th>78</th><th>93</th>\n",
        "    <th>94</th><th>100</th><th>105</th>\n",
        "  </tr>\n",
        "  <tr>\n",
        "    <td>Y</td><td>3.3</td><td>3.2</td><td>3.4</td><td>3.0</td><td>2.8</td><td>2.9</td><td>2.7</td><td>2.6</td><td>2.5</td><td>2.6</td><td>2.2</td><td>2.0</td>\n",
        "    <td>2.3</td><td>2.1</td>\n",
        "  </tr>\n",
        "\n",
        "</table>\n",
        "\n",
        "Determina la **Recta de Regresión** para tales valores y **grafica la recta** en el plano\n",
        "\n",
        "# **Procedimiento**\n",
        "1. Obtener la media de X e Y\n",
        "2. Obtener las desviaciones estandar de X e Y\n",
        "3. Obtener el coeficiente de correlación\n",
        "4. Obtener la recta de regresión y graficarla junto con el diagrama de dispersión"
      ],
      "metadata": {
        "id": "TSvkrvaU1z_c"
      }
    },
    {
      "cell_type": "markdown",
      "source": [
        "## Paso 1 Media de X e Y:\n",
        "## $$\\overline{x}= \\frac{\\sum_{i=1}^{n} x_i}{n} $$"
      ],
      "metadata": {
        "id": "llxzfoJl1z_0"
      }
    },
    {
      "cell_type": "code",
      "execution_count": 174,
      "metadata": {
        "colab": {
          "base_uri": "https://localhost:8080/"
        },
        "outputId": "5267dbe9-ea32-403b-e67c-2e8238f910e9",
        "id": "ZYdJlt1g1z_1"
      },
      "outputs": [
        {
          "output_type": "stream",
          "name": "stdout",
          "text": [
            "Promedio de X = 890 / 14 = 63.57142857142857\n",
            "Promedio de Y = 37.6 / 14 = 2.685714285714286\n"
          ]
        }
      ],
      "source": [
        "import numpy as np\n",
        "x = np.array([12,\t30,\t36,\t40,\t45,\t57,\t62,\t67,\t71,\t78,\t93,\t94,\t100,\t105])\n",
        "y = np.array([3.3,\t3.2,\t3.4,\t3.0,\t2.8,\t2.9,\t2.7,\t2.6,\t2.5,\t2.6,\t2.2,\t2.0,\t2.3,\t2.1])\n",
        "print(f\"Promedio de X = {np.sum(x)} / {x.size} = {np.mean(x)}\")\n",
        "print(f\"Promedio de Y = {np.sum(y)} / {y.size} = {np.mean(y)}\")"
      ]
    },
    {
      "cell_type": "markdown",
      "source": [
        "## Paso 2 Obtener la desviación estandar de X e Y\n",
        "## $$ S_x = \\sqrt{\\frac{\\sum_{i=1}^{n} (x_i-\\overline{x})^2}{n-1}} $$\n"
      ],
      "metadata": {
        "id": "kmFGmjN_1z_5"
      }
    },
    {
      "cell_type": "code",
      "source": [
        "x_mean_array = np.array([63.57142857142857,63.57142857142857,63.57142857142857,63.57142857142857,63.57142857142857,63.57142857142857,63.57142857142857,63.57142857142857,63.57142857142857,63.57142857142857,63.57142857142857,63.57142857142857,63.57142857142857,63.57142857142857])\n",
        "y_mean_array = np.array([2.685714285714286,2.685714285714286,2.685714285714286,2.685714285714286,2.685714285714286,2.685714285714286,2.685714285714286,2.685714285714286,2.685714285714286,2.685714285714286,2.685714285714286,2.685714285714286,2.685714285714286,2.685714285714286])\n",
        "sumx = np.sum((x-x_mean_array)**2)\n",
        "sumy = np.sum((y-y_mean_array)**2)\n",
        "\n",
        "print(f\"Sx = sqrt({sumx}/{x.size-1}) = {np.std(x)}\")\n",
        "print(f\"Sy = sqrt({sumy}/{y.size-1}) = {np.std(y)}\")\n"
      ],
      "metadata": {
        "colab": {
          "base_uri": "https://localhost:8080/"
        },
        "outputId": "52255c9e-99e1-4ea4-f120-1784827157eb",
        "id": "z2LX7i-y1z_6"
      },
      "execution_count": 175,
      "outputs": [
        {
          "output_type": "stream",
          "name": "stdout",
          "text": [
            "Sx = sqrt(10603.42857142857/13) = 27.520678681712063\n",
            "Sy = sqrt(2.557142857142857/13) = 0.4273792943329026\n"
          ]
        }
      ]
    },
    {
      "cell_type": "markdown",
      "source": [
        "## Paso 3 Obtener covarianza y coeficiente de correlación\n",
        "## $$ S_{xy} = \\frac{\\sum_{i=1}^{n}x_iy_i-\\frac{(\\sum_{i=1}^{n}x_i)(\\sum_{i=1}^{n}y_i)}{n}}{n} $$\n",
        "\n",
        "## $$ r_{xy}= \\frac{S_{xy}}{S_xS_y}$$"
      ],
      "metadata": {
        "id": "uVXu8UHR1z_7"
      }
    },
    {
      "cell_type": "code",
      "source": [
        "sumxy = np.sum(x*y)\n",
        "ex_ey_n = (np.sum(x) * np.sum(y))/x.size\n",
        "sxy = (sumxy - ex_ey_n)/x.size\n",
        "rxy = np.corrcoef(x,y)\n",
        "\n",
        "print(f\"Sxy = {sumxy} - {ex_ey_n} / {x.size} = {sxy}\")\n",
        "print(f\"rxy = {sxy} / {np.std(x)*np.std(y)} = {rxy}\")"
      ],
      "metadata": {
        "colab": {
          "base_uri": "https://localhost:8080/"
        },
        "outputId": "37876aba-6c37-419d-acc7-2ba813e7498b",
        "id": "UzgBUuv31z_8"
      },
      "execution_count": 176,
      "outputs": [
        {
          "output_type": "stream",
          "name": "stdout",
          "text": [
            "Sxy = 2234.3 - 2390.285714285714 / 14 = -11.14183673469386\n",
            "rxy = -11.14183673469386 / 11.761768234552658 = [[ 1.         -0.94729266]\n",
            " [-0.94729266  1.        ]]\n"
          ]
        }
      ]
    },
    {
      "cell_type": "markdown",
      "source": [
        "## Paso 4 Obtener la recta de regresión y graficarla junto con el diagrama de dispersión\n",
        "\n",
        "$$m = r(\\frac{s_y}{s_x})$$\n",
        "\n",
        "$$b = \\overline{y} - m\\overline{x}$$"
      ],
      "metadata": {
        "id": "jDZ0cYOV1z_9"
      }
    },
    {
      "cell_type": "code",
      "source": [
        "m = -0.94729266 * (np.std(y)/np.std(x))\n",
        "b = np.mean(y) - m*np.mean(x)\n",
        "y_1 = m*30+b\n",
        "y_2 = m*100+b\n",
        "\n",
        "print(f\"y = {m}x + {b}\")\n",
        "print(f\"y1={y_1}, y2={y_2}\")\n",
        "\n",
        "import matplotlib.pyplot as plt\n",
        "\n",
        "plt.plot(x,y,'o')\n",
        "plt.plot(x,m*x+b)\n",
        "plt.grid(True, linestyle='-', linewidth=0.5)\n",
        "plt.show()\n",
        "plt.savefig('grafica2.png', dpi=300)"
      ],
      "metadata": {
        "colab": {
          "base_uri": "https://localhost:8080/",
          "height": 317
        },
        "outputId": "84293e78-07d1-45d7-ee95-40edff8f6c2b",
        "id": "RRWcJu641z_9"
      },
      "execution_count": 177,
      "outputs": [
        {
          "output_type": "stream",
          "name": "stdout",
          "text": [
            "y = -0.014710875165537608x + 3.6209056355234623\n",
            "y1=3.179579380557334, y2=2.1498181189697014\n"
          ]
        },
        {
          "output_type": "display_data",
          "data": {
            "image/png": "[encoded data removed]",
            "text/plain": [
              "<Figure size 432x288 with 1 Axes>"
            ]
          },
          "metadata": {
            "needs_background": "light"
          }
        },
        {
          "output_type": "display_data",
          "data": {
            "text/plain": [
              "<Figure size 432x288 with 0 Axes>"
            ]
          },
          "metadata": {}
        }
      ]
    }
  ]
}
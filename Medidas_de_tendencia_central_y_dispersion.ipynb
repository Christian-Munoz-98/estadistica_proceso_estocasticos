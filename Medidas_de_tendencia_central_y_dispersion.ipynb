{
  "nbformat": 4,
  "nbformat_minor": 0,
  "metadata": {
    "colab": {
      "name": "Medidas de tendencia central y dispersion.ipynb",
      "provenance": [],
      "collapsed_sections": [],
      "authorship_tag": "ABX9TyNqwpRJ3vnzd0c6suersoev",
      "include_colab_link": true
    },
    "kernelspec": {
      "name": "python3",
      "display_name": "Python 3"
    },
    "language_info": {
      "name": "python"
    }
  },
  "cells": [
    {
      "cell_type": "markdown",
      "metadata": {
        "id": "view-in-github",
        "colab_type": "text"
      },
      "source": [
        "<a href=\"https://colab.research.google.com/github/Christian-Munoz-98/formulas_estadisticas/blob/main/Medidas_de_tendencia_central_y_dispersion.ipynb\" target=\"_parent\"><img src=\"https://colab.research.google.com/assets/colab-badge.svg\" alt=\"Open In Colab\"/></a>"
      ]
    },
    {
      "cell_type": "code",
      "execution_count": 59,
      "metadata": {
        "colab": {
          "base_uri": "https://localhost:8080/"
        },
        "id": "iz1ZYkJitm6s",
        "outputId": "5194b0fb-11c0-4460-af04-dcf7a9fc8dae"
      },
      "outputs": [
        {
          "output_type": "stream",
          "name": "stdout",
          "text": [
            "Medidas de tendencia central\n",
            "Media = 4.9415\n",
            "Mediana = 4.8100000000000005\n",
            "Moda = 4.62\n",
            "\n",
            "\n",
            "Medidas de Dispersión\n",
            "Rango=3.23\n",
            "Varianza=0.6545327500000002\n",
            "Desviacion Estandar = 0.8090319832985592\n",
            "Coeficiente de variacion = 0.16372194339746216\n",
            "Rango intercuartil = 1.1024999999999991\n"
          ]
        }
      ],
      "source": [
        "import statistics as stat\n",
        "import math\n",
        "import numpy as np\n",
        "\n",
        "def mediana():\n",
        "  if (n % 2) == 1:\n",
        "    index = int((n+1)/2)-1\n",
        "    return dataset[index]\n",
        "  else:\n",
        "    index_a = int(n/2)-1\n",
        "    index_b = int(n/2+1)-1\n",
        "    return (dataset[index_a] + dataset[index_b])/2\n",
        "  \n",
        "def varianza():\n",
        "  acumulador = 0\n",
        "  for data in dataset:\n",
        "    acumulador += (data-media)**2\n",
        "  return acumulador/n\n",
        "\n",
        "def desviacion_estandar(varianza):\n",
        "  return math.sqrt(varianza)\n",
        "\n",
        "def coeficiente_de_variacion(desviacion_estandar):\n",
        "  return desviacion_estandar/media\n",
        "\n",
        "def media_geometrica():\n",
        "  acumulador = 1\n",
        "  for data in dataset:\n",
        "    acumulador *= data\n",
        "  return acumulador**(1/n)\n",
        "\n",
        "dataset = sorted([4.37, 4.64, 4.62, 4.02, 6.04, 4.60, 3.82, 4.98, 4.62, 6.02, 3.27, 5.15, 5.51, 5.24, 5.94, 5.49, 6.50, 5.33, 4.40,4.27])\n",
        "\n",
        "np_dataset = np.array(sorted([4.37, 4.64, 4.62, 4.02, 6.04, 4.60, 3.82, 4.98, 4.62, 6.02, 3.27, 5.15, 5.51, 5.24, 5.94, 5.49, 6.50, 5.33, 4.40,4.27]))\n",
        "\n",
        "#Medidas Tendencia Central\n",
        "n = len(dataset)\n",
        "media = sum(dataset,0)/n\n",
        "\n",
        "mediana = mediana()\n",
        "\n",
        "moda = stat.mode(dataset)\n",
        "\n",
        "print(f'Medidas de tendencia central\\nMedia = {media}\\nMediana = {mediana}\\nModa = {moda}\\n\\n')\n",
        "\n",
        "#Medidas de Dispersión\n",
        "rango = dataset[n-1]-dataset[0]\n",
        "varianza = varianza()\n",
        "desviacion_estandar = desviacion_estandar(varianza)\n",
        "coeficiente_de_variacion = coeficiente_de_variacion(desviacion_estandar)\n",
        "\n",
        "q3, q1 = np.percentile(np_dataset, [75, 25])\n",
        "\n",
        "rango_intercuartil = q3-q1\n",
        "\n",
        "print(f'Medidas de Dispersión\\nRango={rango}\\nVarianza={varianza}\\nDesviacion Estandar = {desviacion_estandar}\\nCoeficiente de variacion = {coeficiente_de_variacion}\\nRango intercuartil = {rango_intercuartil}')\n"
      ]
    },
    {
      "cell_type": "code",
      "source": [
        "dataset = sorted([20,16,16,10,10,5,8,10,20,10,45,6,35,65,10])\n",
        "\n",
        "n = len(dataset)\n",
        "media = sum(dataset,0)/n\n",
        "mediana = mediana()\n",
        "media_geometrica = media_geometrica()\n",
        "varianza = varianza()\n",
        "desviacion_estandar = desviacion_estandar()\n",
        "\n",
        "print(f'Media={media}\\nMediana = {mediana}\\nMedia Geometrica = {media_geometrica}\\nVarianza = {varianza}\\nDesviacion Estandar = {desviacion_estandar}')"
      ],
      "metadata": {
        "colab": {
          "base_uri": "https://localhost:8080/",
          "height": 235
        },
        "id": "abQfki2N-4qY",
        "outputId": "21d72d48-c0c2-4b85-d310-839671becf9a"
      },
      "execution_count": 60,
      "outputs": [
        {
          "output_type": "error",
          "ename": "TypeError",
          "evalue": "ignored",
          "traceback": [
            "\u001b[0;31m---------------------------------------------------------------------------\u001b[0m",
            "\u001b[0;31mTypeError\u001b[0m                                 Traceback (most recent call last)",
            "\u001b[0;32m<ipython-input-60-f263e76896a3>\u001b[0m in \u001b[0;36m<module>\u001b[0;34m()\u001b[0m\n\u001b[1;32m      5\u001b[0m \u001b[0;31m#mediana = mediana()\u001b[0m\u001b[0;34m\u001b[0m\u001b[0;34m\u001b[0m\u001b[0;34m\u001b[0m\u001b[0m\n\u001b[1;32m      6\u001b[0m \u001b[0mmedia_geometrica\u001b[0m \u001b[0;34m=\u001b[0m \u001b[0mmedia_geometrica\u001b[0m\u001b[0;34m(\u001b[0m\u001b[0;34m)\u001b[0m\u001b[0;34m\u001b[0m\u001b[0;34m\u001b[0m\u001b[0m\n\u001b[0;32m----> 7\u001b[0;31m \u001b[0mvarianza\u001b[0m \u001b[0;34m=\u001b[0m \u001b[0mvarianza\u001b[0m\u001b[0;34m(\u001b[0m\u001b[0;34m)\u001b[0m\u001b[0;34m\u001b[0m\u001b[0;34m\u001b[0m\u001b[0m\n\u001b[0m\u001b[1;32m      8\u001b[0m \u001b[0mdesviacion_estandar\u001b[0m \u001b[0;34m=\u001b[0m \u001b[0mdesviacion_estandar\u001b[0m\u001b[0;34m(\u001b[0m\u001b[0;34m)\u001b[0m\u001b[0;34m\u001b[0m\u001b[0;34m\u001b[0m\u001b[0m\n\u001b[1;32m      9\u001b[0m \u001b[0;34m\u001b[0m\u001b[0m\n",
            "\u001b[0;31mTypeError\u001b[0m: 'float' object is not callable"
          ]
        }
      ]
    }
  ]
}
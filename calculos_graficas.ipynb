{
  "nbformat": 4,
  "nbformat_minor": 0,
  "metadata": {
    "colab": {
      "name": "calculos_graficas.ipynb",
      "provenance": [],
      "authorship_tag": "ABX9TyMlL9t2JNAI9w4+QempYn4L",
      "include_colab_link": true
    },
    "kernelspec": {
      "name": "python3",
      "display_name": "Python 3"
    },
    "language_info": {
      "name": "python"
    }
  },
  "cells": [
    {
      "cell_type": "markdown",
      "metadata": {
        "id": "view-in-github",
        "colab_type": "text"
      },
      "source": [
        "<a href=\"https://colab.research.google.com/github/Christian-Munoz-98/formulas_estadisticas/blob/main/calculos_graficas.ipynb\" target=\"_parent\"><img src=\"https://colab.research.google.com/assets/colab-badge.svg\" alt=\"Open In Colab\"/></a>"
      ]
    },
    {
      "cell_type": "code",
      "execution_count": null,
      "metadata": {
        "id": "-F4NfTZk57Cb"
      },
      "outputs": [],
      "source": [
        "#Librerías necesarias \n",
        "import numpy as np #Cálculos\n",
        "import matplotlib.pyplot as plt #Graficar\n",
        "\n",
        "x = [19,22,27,32,40,42,44,46,50] #Guardamos el primer set de datos en x por si necesitamos hacer operaciones tales de las listas de python\n",
        "x_np = np.array(x) #Creamos una copia como un array de numpy para que pueda hacer operaciones vectoriales\n",
        "y = [171,185,150,210,225,250,300,390,120] \n",
        "y_np = np.array(y) #Los mismo con los sets de datos en y"
      ]
    },
    {
      "cell_type": "code",
      "source": [
        "from numpy.lib.function_base import corrcoef\n",
        "#Funciones de numpy\n",
        "media = np.mean(x) #np.mean()/ media aritmetica/ recibe como parametro una lista de python o un array de numpy\n",
        "dev_s = np.std(x) #np.std()/ desviacion estandar/ rerecibe como parametro una lista de python o un array de numpy\n",
        "coef_cor = np.corrcoef(x,y) #np.corrcoef/ coeficiente de correlacion / recibe de parametros dos listas o arrays de numpy\n",
        "\n",
        "print(f\"Datasets:\\n{x}\\n{y}\")\n",
        "print(f\"Media = {media}\")\n",
        "print(f\"Desviación estandar = {dev_s}\")\n",
        "print(f\"Coeficiente de correlacion = {coef_cor}\")"
      ],
      "metadata": {
        "colab": {
          "base_uri": "https://localhost:8080/",
          "height": 0
        },
        "id": "XRpsvW4K70Fs",
        "outputId": "ae294a3b-a50a-492a-aebe-93bb250818d4"
      },
      "execution_count": 5,
      "outputs": [
        {
          "output_type": "stream",
          "name": "stdout",
          "text": [
            "Datasets:\n",
            "[19, 22, 27, 32, 40, 42, 44, 46, 50]\n",
            "[171, 185, 150, 210, 225, 250, 300, 390, 120]\n",
            "Media = 35.77777777777778\n",
            "Desviación estandar = 10.50690543063918\n",
            "Coeficiente de correlacion = [[1.         0.42521886]\n",
            " [0.42521886 1.        ]]\n"
          ]
        }
      ]
    },
    {
      "cell_type": "code",
      "source": [
        "#Graficar\n",
        "#para graficar un scatter un diagrama de dispersion hay dos opciones\n",
        "plt.plot(x,y,'o') #plt.plot()/recibiendo como parametro las listas de datos y 'o' que lo define como una grafica de puntos\n",
        "plt.show() #plt.show() sirve para mostrar la grafica creada (se ejecuta al final)"
      ],
      "metadata": {
        "colab": {
          "base_uri": "https://localhost:8080/",
          "height": 267
        },
        "id": "hBRTFKYv6yXw",
        "outputId": "70b3e9bd-26c8-4ef1-9f95-e73978957927"
      },
      "execution_count": 8,
      "outputs": [
        {
          "output_type": "display_data",
          "data": {
            "image/png": "[encoded data removed]",
            "text/plain": [
              "<Figure size 432x288 with 1 Axes>"
            ]
          },
          "metadata": {
            "needs_background": "light"
          }
        }
      ]
    },
    {
      "cell_type": "code",
      "source": [
        "plt.scatter(x,y) #plt.scatter() solo necesita las dos listas de datos\n",
        "plt.show()"
      ],
      "metadata": {
        "colab": {
          "base_uri": "https://localhost:8080/",
          "height": 267
        },
        "id": "aS591_od-Zo7",
        "outputId": "a72283d8-7bba-4433-ab1a-d996d5f4e78e"
      },
      "execution_count": 9,
      "outputs": [
        {
          "output_type": "display_data",
          "data": {
            "image/png": "[encoded data removed]",
            "text/plain": [
              "<Figure size 432x288 with 1 Axes>"
            ]
          },
          "metadata": {
            "needs_background": "light"
          }
        }
      ]
    },
    {
      "cell_type": "code",
      "source": [
        "#Para obtener la recta de regresion lineal\n",
        "m =  0.425218861*(np.std(y)/np.std(x)) #obtenemos la pendiente \n",
        "b = np.mean(y) - m*np.mean(x) #Obtenemos la constante\n",
        "plt.plot(x,y,'o') #en este caso necesitamos que el tipo de grafica sea plt.plot() porque se debe solapar con la recta de regresion\n",
        "plt.plot(x,m*x_np+b) #para obtener la recta pasamos como segundo argumento de plt.plot() la funcion de la recta  y = mx + b \n",
        "plt.show()"
      ],
      "metadata": {
        "colab": {
          "base_uri": "https://localhost:8080/",
          "height": 267
        },
        "id": "RYcg018Y-nKq",
        "outputId": "c3a7d94f-dc7d-409c-e46d-a069e6818d3a"
      },
      "execution_count": 10,
      "outputs": [
        {
          "output_type": "display_data",
          "data": {
            "image/png": "[encoded data removed]",
            "text/plain": [
              "<Figure size 432x288 with 1 Axes>"
            ]
          },
          "metadata": {
            "needs_background": "light"
          }
        }
      ]
    }
  ]
}